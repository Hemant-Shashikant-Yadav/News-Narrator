{
 "cells": [
  {
   "cell_type": "code",
   "execution_count": 6,
   "id": "029e6493",
   "metadata": {},
   "outputs": [
    {
     "name": "stdout",
     "output_type": "stream",
     "text": [
      "1 Microsoft David Desktop - English (United States) None : N/A (None) [HKEY_LOCAL_MACHINE\\SOFTWARE\\Microsoft\\Speech\\Voices\\Tokens\\TTS_MS_EN-US_DAVID_11.0]\n",
      "2 Microsoft Zira Desktop - English (United States) None : N/A (None) [HKEY_LOCAL_MACHINE\\SOFTWARE\\Microsoft\\Speech\\Voices\\Tokens\\TTS_MS_EN-US_ZIRA_11.0]\n"
     ]
    }
   ],
   "source": [
    "import pyttsx3\n",
    "\n",
    "\n",
    "class TextToSpeech:\n",
    "    engine: pyttsx3.Engine\n",
    "    \n",
    "    def __init__(self, voice, rate: int, volume: float):\n",
    "        self.engine = pyttsx3.init()\n",
    "        if voice:\n",
    "            self.engine.setProperty('voice', voice)\n",
    "        \n",
    "        self.engine.setProperty('rate', rate)\n",
    "        self.engine.setProperty('volume', volume)\n",
    "    \n",
    "    def list_available_voices(self):\n",
    "        voices = self.engine.getProperty('voices')\n",
    "        \n",
    "        for i, voice in enumerate(voices):\n",
    "            languages = voice.languages\n",
    "            language = languages[0] if languages else \"N/A\"\n",
    "            print(f'{i+1} {voice.name} {voice.age} : {language} ({voice.gender}) [{voice.id}]')\n",
    "\n",
    "\n",
    "if __name__ == '__main__':\n",
    "    tts = TextToSpeech(None, 200, 1.0)\n",
    "    tts.list_available_voices()\n"
   ]
  },
  {
   "cell_type": "code",
   "execution_count": null,
   "id": "1debac41",
   "metadata": {},
   "outputs": [],
   "source": []
  }
 ],
 "metadata": {
  "kernelspec": {
   "display_name": "Python 3 (ipykernel)",
   "language": "python",
   "name": "python3"
  },
  "language_info": {
   "codemirror_mode": {
    "name": "ipython",
    "version": 3
   },
   "file_extension": ".py",
   "mimetype": "text/x-python",
   "name": "python",
   "nbconvert_exporter": "python",
   "pygments_lexer": "ipython3",
   "version": "3.10.13"
  }
 },
 "nbformat": 4,
 "nbformat_minor": 5
}
