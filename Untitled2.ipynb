{
 "cells": [
  {
   "cell_type": "code",
   "execution_count": 2,
   "id": "e98bbcfd",
   "metadata": {},
   "outputs": [
    {
     "name": "stdout",
     "output_type": "stream",
     "text": [
      "Gurpatwant Singh Pannun: Narendra Modi breaks silence on US murder plot allegationRead more India stories from the BBC: Related Topics More on this story Top Stories Features Elsewhere on the BBC Most Read BBC News ServicesPrime Minister Narendra Modi has said that India will \"definitely look into\" any evidence provided on its alleged links to an assassination plot in the US. In November, the US charged an Indian man of conspiring to murder a Sikh separatist leader in New York. Mr Modi told the Financial Times that the allegations will not affect ties between India and the US. This is the first time he has spoken publicly about the issue. \"If a citizen of ours has done anything good or bad, we are ready to look into it. Our commitment is to the rule of law,\" the prime minister told the newspaper. The target of the attempted assassination, Gurpatwant Singh Pannun, is a dual US-Canadian citizen who is a vocal supporter of the Khalistan movement which advocates for a separate Sikh state. US prosecutors claimed that a man named Nikhil Gupta had paid $100,000 (Â£79,000) in cash to a hitman to assassinate Mr Pannun and that he was allegedly directed by an Indian government official. India has designated Mr Pannun a terrorist, but he denies the allegation and says he's an activist. The allegations came about two months after Canadian Prime Minister Justin Trudeau accused India of having links to the murder of another Sikh separatist leader named Hardeep Singh Nijjar. Nijjar was shot dead outside a Sikh temple on 18 June in Canada. India has strongly denied the allegations and accused Canada of providing shelter to \"Khalistani terrorists and extremists\" who threaten India's security. Delhi has also repeatedly claimed that Ottawa has not yet shared concrete evidence to back the allegation. The diplomatic row has damaged India-Canada ties. In an interview with Canada's public broadcaster CBC, Mr Trudeau said he went public with the allegations against India after weeks of quiet diplomacy.  He said his aim was to \"put a chill on India\" and deter any alleged agents who were thinking of carrying out further attacks in Canada. Mr Trudeau added that he had noticed a shift in tone from India after the US came forward with their own allegations. \"There's an understanding that maybe, maybe just churning out attacks against Canada isn't going to make this problem go away,\" he said. The Indian government has often reacted sharply to demands by Sikh separatists in Western countries for Khalistan. The Khalistan movement peaked in India in the 1980s with a violent insurgency centred in Sikh-majority Punjab state. It was quelled by force and has little resonance in India now, but is still popular among some in the Sikh diaspora in countries such as Canada, Australia and the UK. Experts say that the recent accusations of extra-judicial killings of Sikh separatists threaten to dent India's ties with the US, which have been steadily growing. However, Mr Modi told the Financial Times that he feels confident about the upward trajectory of the relationship.  \"There is strong bipartisan support for the strengthening of this relationship, which is a clear indicator of a mature and stable partnership,\" he said.\"I don't think it is appropriate to link a few incidents with diplomatic relations between the two countries,\" he added. He also said that India was concerned about the \"activities of certain extremist groups based overseas\". BBC News India is now on YouTube. Click here to subscribe and watch our documentaries, explainers and features. What US agents knew before a Sikh separatist was killed Canada accuses India of role in Sikh leader's murder US says 'serious negotiations' taking place on new Gaza truce 'I walked my kids past rotting corpses' Pakistan police arrest scores at female-led rally In pictures: The many lives of India's Dalits Tide turns for Channel smugglers but people keep trying Quiz of the Year: How much do you remember about 2023? Why Niger is saying goodbye to France but not the US What Gaza's death toll says about the war 'I walked my kids past rotting corpses' Ukraine's hopes of rebuilding rely on fighting corruption How Zelensky yachts fable influenced US aid debate US citizens jailed by Putin left hostage to a deal How China's buses influenced the world's EVs The permanently imperfect reality of hybrid work The Greek island known for its nudity Â© 2023 BBC. The BBC is not responsible for the content of external sites. Read about our approach to external linking.\n"
     ]
    }
   ],
   "source": [
    "import requests\n",
    "from bs4 import BeautifulSoup\n",
    "\n",
    "url = 'https://www.bbc.com/news/world-asia-india-67770036'\n",
    "\n",
    "response = requests.get(url)\n",
    "\n",
    "if response.status_code == 200:\n",
    "    soup = BeautifulSoup(response.text, 'html.parser')\n",
    "\n",
    "    h1_tags = soup.find_all('h1')\n",
    "\n",
    "    h1_combined_string = ' '.join([str(tag.text) for tag in h1_tags])\n",
    "    \n",
    "    h2_tags = soup.find_all('h2')\n",
    "\n",
    "    h2_combined_string = ' '.join([str(tag.text) for tag in h2_tags])\n",
    "    \n",
    "    p_tags = soup.find_all('p')\n",
    "\n",
    "    p_combined_string = ' '.join([str(tag.text) for tag in p_tags])\n",
    "\n",
    "    final = h1_combined_string+h2_combined_string+p_combined_string\n",
    "    print(final)\n",
    "else:\n",
    "    print(f\"Failed to retrieve the webpage. Status code: {response.status_code}\")\n"
   ]
  },
  {
   "cell_type": "code",
   "execution_count": null,
   "id": "b276c4b6",
   "metadata": {},
   "outputs": [],
   "source": [
    "from transformers import pipeline\n",
    "\n",
    "summarizer = pipeline(\"summarization\", model=\"facebook/bart-large-cnn\")\n",
    "\n",
    "print(summarizer(final, max_length=130, min_length=30, do_sample=False))\n"
   ]
  },
  {
   "cell_type": "code",
   "execution_count": null,
   "id": "b0b7b483",
   "metadata": {},
   "outputs": [],
   "source": [
    "import pyttsx3\n",
    "import time\n",
    "\n",
    "class TextToSpeech:\n",
    "    engine: pyttsx3.Engine\n",
    "    \n",
    "    def __init__(self, voice, rate: int, volume: float):\n",
    "        self.engine = pyttsx3.init()\n",
    "        if voice:\n",
    "            self.engine.setProperty('voice', voice)\n",
    "        \n",
    "        self.engine.setProperty('rate', rate)\n",
    "        self.engine.setProperty('volume', volume)\n",
    "    \n",
    "    def list_available_voices(self):\n",
    "        voices = self.engine.getProperty('voices')\n",
    "        \n",
    "        for i, voice in enumerate(voices):\n",
    "            print(f'{i+1} {voice.name} ({voice.id})')\n",
    "    \n",
    "    def text_to_speech(self, text: str, save: bool = False, file_name='output.mp3'):\n",
    "        self.engine.say(text)\n",
    "        time.sleep(1)  \n",
    "        self.engine.stop()\n",
    "        print(\"Talking\")\n",
    "        \n",
    "        if save:\n",
    "            self.engine.save_to_file(text, file_name)\n",
    "            self.engine.runAndWait()\n",
    "        else:\n",
    "            self.engine.runAndWait()\n",
    "\n",
    "\n",
    "\n",
    " "
   ]
  },
  {
   "cell_type": "code",
   "execution_count": null,
   "id": "7dd35a36",
   "metadata": {},
   "outputs": [],
   "source": [
    "tts = TextToSpeech(\"HKEY_LOCAL_MACHINE\\SOFTWARE\\Microsoft\\Speech\\Voices\\Tokens\\TTS_MS_EN-GB_HAZEL_11.0\", 130, 1.5)\n",
    "tts.list_available_voices()\n",
    "tts.text_to_speech('''Renewable energy, notably solar and wind power, plays a pivotal role globally in the shift toward sustainable energy solutions. These technologies offer a clean alternative to fossil fuels, converting sunlight and wind into electricity through solar panels and turbines. The widespread adoption of renewables not only mitigates environmental impact but also boosts energy independence and resilience. Governments, businesses, and individuals are increasingly recognizing the urgency of transitioning to combat climate change. This transition involves technological advancements, such as energy storage innovations and smart grid technologies, addressing challenges associated with intermittent renewable sources. Economic benefits, including job creation and decreasing technology costs, underscore the feasibility of investing in renewable energy. Governments worldwide are implementing supportive policies and incentives to accelerate adoption, fostering a commitment to combat climate change and build a sustainable energy future.''', save=True, file_name='output.mp3')\n"
   ]
  }
 ],
 "metadata": {
  "kernelspec": {
   "display_name": "Python 3 (ipykernel)",
   "language": "python",
   "name": "python3"
  },
  "language_info": {
   "codemirror_mode": {
    "name": "ipython",
    "version": 3
   },
   "file_extension": ".py",
   "mimetype": "text/x-python",
   "name": "python",
   "nbconvert_exporter": "python",
   "pygments_lexer": "ipython3",
   "version": "3.10.13"
  }
 },
 "nbformat": 4,
 "nbformat_minor": 5
}
